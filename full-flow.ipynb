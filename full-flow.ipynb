{
 "cells": [
  {
   "cell_type": "code",
   "execution_count": null,
   "id": "d594f767",
   "metadata": {},
   "outputs": [],
   "source": [
    "import numpy as np\n",
    "import math\n",
    "import pandas as pd\n",
    "import os\n",
    "import mne\n",
    "import matplotlib.pyplot as plt\n",
    "from scipy.signal import welch, hamming\n",
    "from fooof import FOOOF"
   ]
  },
  {
   "cell_type": "code",
   "execution_count": null,
   "id": "98a3accd",
   "metadata": {},
   "outputs": [],
   "source": [
    "folder_paths = ['data\\\\decreased_cognition', 'data\\\\intact_cognition']\n",
    "\n",
    "set_files = []\n",
    "for folder_path in folder_paths:\n",
    "    files = []\n",
    "    for f in os.listdir(folder_path):\n",
    "        if f.endswith('.set'):\n",
    "            files.append(os.path.join(folder_path, f))\n",
    "    set_files.extend(files)\n",
    "print(set_files)"
   ]
  },
  {
   "cell_type": "code",
   "execution_count": null,
   "id": "cb067095",
   "metadata": {},
   "outputs": [],
   "source": [
    "data = []\n",
    "for file_path in set_files:\n",
    "    if 'data\\\\decreased_cognition' in file_path:\n",
    "        label = 0\n",
    "    else:\n",
    "        label = 1\n",
    "    data.append([file_path, label])\n",
    "df = pd.DataFrame(data, columns=['file_path', 'label'])\n",
    "df.to_csv('Y.csv', index=False)"
   ]
  },
  {
   "cell_type": "code",
   "execution_count": null,
   "id": "76bbbc03",
   "metadata": {},
   "outputs": [],
   "source": [
    "def process_file(file_path):\n",
    "    raw = mne.io.read_raw_eeglab(file_path, preload=True)\n",
    "    channel_name = raw.info['ch_names']\n",
    "    channel_index = []\n",
    "    channel_data = [] \n",
    "    channel_time = []\n",
    "    frequencies = []\n",
    "    psd = []\n",
    "    all_features = []\n",
    "    for i in range(19):\n",
    "        index = raw.ch_names.index(channel_name[i])\n",
    "        data = raw[index, :][0] * 1e6\n",
    "        time = raw[index, :][1]\n",
    "\n",
    "        channel_index.append(index)\n",
    "        channel_data.append(data)\n",
    "        channel_time.append(time)\n",
    "        freqs, power = welch(channel_data[i], fs=raw.info['sfreq'], nperseg=512, window=hamming(512))\n",
    "        frequencies.append(freqs)\n",
    "        psd.append(power)\n",
    "        \n",
    "        fm = FOOOF(peak_width_limits=[0.05, 20], max_n_peaks=1, min_peak_height=0.01, \n",
    "                   peak_threshold=-5, aperiodic_mode='fixed')\n",
    "        freq_range = [4, 16]\n",
    "        fm.report(frequencies[i], psd[i][0], freq_range)\n",
    "        \n",
    "        aperiodic_params = fm.get_params('aperiodic_params')\n",
    "        peak_params = fm.get_params('peak_params')\n",
    "        peak_params = peak_params.flatten()\n",
    "        \n",
    "        if np.isnan(peak_params).any():\n",
    "            peak_params = np.array([0, 0, 0])\n",
    "        features = np.concatenate((peak_params, aperiodic_params))\n",
    "        all_features.extend(features)\n",
    "    return all_features "
   ]
  },
  {
   "cell_type": "code",
   "execution_count": null,
   "id": "f9ad44a7",
   "metadata": {},
   "outputs": [],
   "source": [
    "columns = []\n",
    "for i in range(19):\n",
    "    columns.extend([\n",
    "        f'ch{i+1}_aperiodic_offset',\n",
    "        f'ch{i+1}_aperiodic_exponent',\n",
    "        f'ch{i+1}_peak_cf',\n",
    "        f'ch{i+1}_peak_pw',\n",
    "        f'ch{i+1}_peak_bw'\n",
    "    ])\n",
    "df = pd.DataFrame(columns=columns)\n",
    "for set_file in set_files:\n",
    "    features = process_file(set_file)\n",
    "    if len(features) == 95:\n",
    "        # Thêm các đặc trưng vào DataFrame\n",
    "        df = df.append(pd.Series(features, index=columns), ignore_index=True)\n",
    "df.to_csv('X.csv', index=False)\n",
    "print(\"done\")"
   ]
  }
 ],
 "metadata": {
  "kernelspec": {
   "display_name": "Python 3 (ipykernel)",
   "language": "python",
   "name": "python3"
  },
  "language_info": {
   "codemirror_mode": {
    "name": "ipython",
    "version": 3
   },
   "file_extension": ".py",
   "mimetype": "text/x-python",
   "name": "python",
   "nbconvert_exporter": "python",
   "pygments_lexer": "ipython3",
   "version": "3.11.3"
  }
 },
 "nbformat": 4,
 "nbformat_minor": 5
}
